{
 "cells": [
  {
   "cell_type": "markdown",
   "metadata": {},
   "source": [
    "# Analysing and Modelling Healthcare Expenditure"
   ]
  },
  {
   "cell_type": "markdown",
   "metadata": {},
   "source": [
    "Before we start, we import some preliminary libraries. "
   ]
  },
  {
   "cell_type": "code",
   "execution_count": null,
   "metadata": {},
   "outputs": [],
   "source": [
    "import pandas as pd\n",
    "import matplotlib.pyplot as plt\n",
    "import numpy as np\n",
    "import statsmodels.formula.api as smf\n",
    "import statsmodels.api as sm\n",
    "import seaborn as sns\n",
    "%matplotlib inline\n",
    "sns.set(rc={'figure.figsize':(15,12)})"
   ]
  },
  {
   "cell_type": "markdown",
   "metadata": {},
   "source": [
    "# Loading Data"
   ]
  },
  {
   "cell_type": "markdown",
   "metadata": {},
   "source": [
    "I have prepared a dataset from The Medical\n",
    "Expenditure Panel Survey (MEPS) (https://meps.ahrq.gov/mepsweb/), a national survey on the financing and use of medical care in the United States. The Agency\n",
    "for Healthcare Research and Quality (AHRQ), a federal government organization in the United States, has collected MEPS data every year since 1996. The data used in these examples are drawn primarily from the Household Component, which contains data on a sample of families and individuals, drawn from a nationally representative subsample of households that participated in the prior year’s National Health Interview Survey. AHRQ uses the MEPS to produce annual estimates for a variety of measures of health care expenditures and use, health status, health insurance coverage, and sources of payment for health services in the United States."
   ]
  },
  {
   "cell_type": "code",
   "execution_count": null,
   "metadata": {},
   "outputs": [],
   "source": [
    "health_data = pd.read_csv('data.csv')"
   ]
  },
  {
   "cell_type": "markdown",
   "metadata": {},
   "source": [
    "Below, you may see the list of variables in the data.\n",
    "\n",
    "| Variable | Description |\n",
    "| --- | --- |\n",
    "| TOTEXP | Total Health Care Expenditure \n",
    "| TOTPRV | TOTAL AMT PAID BY PRIVATE INS \n",
    "| TOTSLF | TOTAL AMT PAID BY SELF/FAMILY \n",
    "| TOTTCH | TOTAL HEALTH CARE CHARGES , EXCL RX \n",
    "| ERTOT | # EMERGENCY ROOM VISITS 20\n",
    "| OBTOTV | # OFFICE-BASED PROVIDER VISITS 20\n",
    "| IPDIS | # HOSPITAL DISCHARGES 20\n",
    "| MARRYX | MARITAL STATUS-12/31/ (EDITED/IMPUTED) \n",
    "| REGION | CENSUS REGION AS OF 12/31/\n",
    "| TTLPX | PERSON'S TOTAL INCOME IN YEAR \n",
    "| FAMINC | FAMILY'S TOTAL INCOME IN YEAR \n",
    "| POVCAT | FAMILY INC AS % OF POVERTY LINE - CATEGORY IN YEAR \n",
    "| AGELAST | PERSON'S AGE LAST TIME ELIGIBLE\n",
    "| DOBMM | DATE OF BIRTH: MONTH\n",
    "| DOBYY | DATE OF BIRTH: YEAR\n",
    "| SEX | SEX \n",
    "| EDUCYEAR | YEARS OF EDUC WHEN FIRST ENTERED MEPS\n",
    "| RACE | RACE/ETHNICITY (EDITED/IMPUTED)\n",
    "| ARTHDX | ARTHRITIS DIAGNOSIS (>17)\n",
    "| ARTHAGED | AGE OF DIAGNOSIS-ARTHRITIS \n",
    "| ASTHDX | ASTHMA DIAGNOSIS\n",
    "| ASTHAGED | AGE OF DIAGNOSIS-ASTHMA\n",
    "| CANCERDX | CANCER DIAGNOSIS (>17) \n",
    "| CHOLDX | HIGH CHOLESTEROL DIAGNOSIS (>17)\n",
    "| CHOLAGED | AGE OF DIAGNOSIS-HIGH CHOLESTEROL \n",
    "| DIABDX | DIABETES DIAGNOSIS\n",
    "| DIABAGED | AGE OF DIAGNOSIS-DIABETES \n",
    "| HIBPDX | HIGH BLOOD PRESSURE DIAG (>17) \n",
    "| HIBPDX53 | HIGH BLOOD PRESSURE DIAG (>17) - RD 5/3\n",
    "| HIBPAGED | AGE OF DIAGNOSIS-HIGH BLOOD PRESSURE \n",
    "| CHDDX | CORONARY HRT DISEASE DIAG (>17) \n",
    "| CHDAGED | AGE OF DIAGNOSIS-CORONARY HEART DISEASE \n",
    "| MIDX | HEART ATTACK (MI) DIAG (>17) \n",
    "| MIAGED | AGE OF DIAGNOSIS-HEART ATTACK(MI)\n",
    "| STRKDX | STROKE DIAGNOSIS (>17)\n",
    "| STRKAGED | AGE OF DIAGNOSIS-STROKE\n",
    "| ADSMOK42 | SAQ: CURRENTLY SMOKE\n",
    "| FAMSZEYR | SIZE OF RESPONDING AUNNALIZED FAMILY\n",
    "| ADGENH42 | SAQ: HEALTH IN GENERAL VR-12\n"
   ]
  },
  {
   "cell_type": "markdown",
   "metadata": {},
   "source": [
    "Now, we can perform some data wrangling in order to observe any trend that could be valuable for modelling the healthcare expenditure. It might be interesting to look at the impact of age, gender, education level, ethnicity, and presense of morbidity on the level of total healthcare expenditure, out-of-pocket expenses, and the healthcare utilisation.\n",
    "\n",
    "We will therefore plot several figures for our own observation."
   ]
  },
  {
   "cell_type": "markdown",
   "metadata": {},
   "source": [
    "# Data Wrangling"
   ]
  },
  {
   "cell_type": "markdown",
   "metadata": {},
   "source": [
    "List of variables that we are going to use in this session:"
   ]
  },
  {
   "cell_type": "code",
   "execution_count": null,
   "metadata": {},
   "outputs": [],
   "source": [
    "cols_list = ['TOTEXP', 'TOTPRV', 'TOTSLF', 'TOTTCH', 'MARRYX', 'REGION', 'TTLPX', 'FAMINC', 'ERTOT', 'OBTOTV', 'IPDIs', 'POVCAT', \n",
    "             'AGELAST', 'DOBMM', 'DOBYY', 'SEX', 'EDUCYR', 'EDUCYEAR', 'RACE', 'ARTHDX', 'ARTHDX53', 'ARTHAGED', 'ASTHDX', 'ASTHDX53', \n",
    "             'ASTHAGED', 'CANCERDX', 'CHOLDX', 'CHOLAGED', 'DIABDX', 'DIABDX53', 'DIABAGED', 'HIBPDX', 'HIBPDX53', 'HIBPAGED', 'CHDDX', \n",
    "             'CHDDX53', 'CHDAGED', 'MIDX', 'MIDX53', 'MIAGED', 'STRKDX', 'STRKDX53', 'STRKAGED', 'ADSMOK42', 'FAMSZEYR', 'ADGENH42', ]"
   ]
  },
  {
   "cell_type": "markdown",
   "metadata": {},
   "source": [
    "## Healthcar Expenditure"
   ]
  },
  {
   "cell_type": "markdown",
   "metadata": {},
   "source": [
    "Let's see the frequency distribution of the total healthcare expenditure:"
   ]
  },
  {
   "cell_type": "code",
   "execution_count": null,
   "metadata": {},
   "outputs": [],
   "source": [
    "sns.distplot(health_data['TOTEXP'], bins=50, kde=False)\n",
    "plt.xlabel(\"Total Healthcare Expenditure\")\n",
    "plt.ylabel(\"Frequency\")"
   ]
  },
  {
   "cell_type": "markdown",
   "metadata": {},
   "source": [
    "In order to eliminate the impact of noise in the visualtion, we clip values over \\$50,000. "
   ]
  },
  {
   "cell_type": "code",
   "execution_count": null,
   "metadata": {},
   "outputs": [],
   "source": [
    "sns.distplot(health_data['TOTEXP'].clip(upper=30000), bins=50, hist=True, kde=False)\n",
    "plt.xlabel(\"Total Healthcare Expenditure\")\n",
    "plt.ylabel(\"Frequency\")"
   ]
  },
  {
   "cell_type": "markdown",
   "metadata": {},
   "source": [
    "\n"
   ]
  },
  {
   "cell_type": "markdown",
   "metadata": {},
   "source": [
    "Since there are too many zeros in the total healthcare expenditure, and it is exponentially distributed, we can visualise the data in a different form too."
   ]
  },
  {
   "cell_type": "code",
   "execution_count": null,
   "metadata": {},
   "outputs": [],
   "source": [
    "health_data['logTOTEXP'] = np.log10(health_data['TOTEXP'])\n",
    "sns.distplot(health_data[health_data['TOTEXP']>0]['logTOTEXP'], bins=50)\n",
    "plt.xlabel(\"Logarithm of Total Healthcare Expenditure\")\n",
    "plt.ylabel(\"Frequency\")"
   ]
  },
  {
   "cell_type": "markdown",
   "metadata": {},
   "source": [
    "**Gender VS Healthcare Expenditure:**"
   ]
  },
  {
   "cell_type": "code",
   "execution_count": null,
   "metadata": {},
   "outputs": [],
   "source": [
    "for item in ['Male', 'Female']:\n",
    "    sns.distplot(health_data[(health_data['TOTEXP']>0)&(health_data['SEX']==item)]['logTOTEXP'], bins=50)\n",
    "plt.legend(['Male', 'Female'])\n",
    "plt.xlabel(\"Logarithm of Total Healthcare Expenditure\")\n",
    "plt.ylabel(\"Frequency\")"
   ]
  },
  {
   "cell_type": "markdown",
   "metadata": {},
   "source": [
    "**Age vs Healthcare Expenditure:**"
   ]
  },
  {
   "cell_type": "code",
   "execution_count": null,
   "metadata": {},
   "outputs": [],
   "source": [
    "health_data['DOBYY'] = health_data['DOBYY'].apply(lambda x: x if x>0 else np.nan)\n",
    "sns.jointplot(x = \"AGE\", y = \"logTOTEXP\", data = health_data[(health_data['TOTEXP']>0)], kind='hist', height=15, joint_kws={'bins':91}, marginal_kws={'bins':91})"
   ]
  },
  {
   "cell_type": "markdown",
   "metadata": {},
   "source": [
    "**Education vs Healthcare Expenditure:**"
   ]
  },
  {
   "cell_type": "code",
   "execution_count": null,
   "metadata": {},
   "outputs": [],
   "source": [
    "health_data['EDUCYEAR'] = health_data['EDUCYEAR'].apply(lambda x: x if x>0 else np.nan)\n",
    "sns.jointplot(x = \"EDUCYEAR\", y = \"logTOTEXP\", data = health_data[(health_data['TOTEXP']>0)], kind='hist', height=15, marginal_kws={'bins':113})"
   ]
  },
  {
   "cell_type": "markdown",
   "metadata": {},
   "source": [
    "## Healthcare Utilisation"
   ]
  },
  {
   "cell_type": "markdown",
   "metadata": {},
   "source": [
    "Now let's see how data looks like for healthcare utilisation. First variable that proxy for the healthcare utilisation is OBTOTV, or Office-based Provider Total Visits."
   ]
  },
  {
   "cell_type": "code",
   "execution_count": null,
   "metadata": {},
   "outputs": [],
   "source": [
    "or_visits = health_data['OBTOTV'].groupby(health_data['OBTOTV']).count()\n",
    "sns.barplot(x = or_visits.index, y=or_visits)\n",
    "plt.xlabel(\"Total Office-based Provider Visits\")\n",
    "plt.ylabel(\"Frequency\")"
   ]
  },
  {
   "cell_type": "code",
   "execution_count": null,
   "metadata": {},
   "outputs": [],
   "source": [
    "or_visits = health_data['OBTOTV'].clip(upper=34.).groupby(health_data['OBTOTV'].clip(upper=34.)).count()\n",
    "sns.barplot(x = or_visits.index, y=or_visits)\n",
    "plt.xlabel(\"Total Office-based Provider Visits\")\n",
    "plt.ylabel(\"Frequency\")"
   ]
  },
  {
   "cell_type": "markdown",
   "metadata": {},
   "source": [
    "**Gender VS Healthcare Utilisation:**"
   ]
  },
  {
   "cell_type": "code",
   "execution_count": null,
   "metadata": {},
   "outputs": [],
   "source": [
    "health_data['logOBTOTV'] = np.log10(health_data['OBTOTV'])\n",
    "for item in ['Male', 'Female']:\n",
    "    sns.distplot(health_data[(health_data['logOBTOTV']>0)&(health_data['SEX']==item)]['logOBTOTV'], bins=50, kde=False)\n",
    "plt.legend(['Male', 'Female'])\n",
    "plt.xlabel(\"Logarithm of Total Healthcare Utilisation\")\n",
    "plt.ylabel(\"Frequency\")"
   ]
  },
  {
   "cell_type": "markdown",
   "metadata": {},
   "source": [
    "**Age vs Healthcare Utilisation:**"
   ]
  },
  {
   "cell_type": "code",
   "execution_count": null,
   "metadata": {},
   "outputs": [],
   "source": [
    "#health_data['DOBYY'] = health_data['DOBYY'].apply(lambda x: x if x>0 else np.nan)joint_kws={'bins':113},  marginal_kws={'bins':113}\n",
    "#health_data['AGE'] = 2020-health_data['DOBYY']\n",
    "sns.jointplot(x = \"AGE\", y = \"logOBTOTV\", data = health_data[(health_data['OBTOTV']>0)], kind='hist', height=15, joint_kws={'bins':91}, marginal_kws={'bins':91})"
   ]
  },
  {
   "cell_type": "markdown",
   "metadata": {},
   "source": [
    "**Education vs Healthcare Utilisation:**"
   ]
  },
  {
   "cell_type": "code",
   "execution_count": null,
   "metadata": {},
   "outputs": [],
   "source": [
    "# health_data['EDUCYEAR'] = health_data['EDUCYEAR'].apply(lambda x: x if x>0 else np.nan); , marginal_kws={'bins':113}\n",
    "sns.jointplot(x = \"EDUCYEAR\", y = \"OBTOTV\", data = health_data[(health_data['OBTOTV']>0)], kind='hist', height=15)"
   ]
  },
  {
   "cell_type": "markdown",
   "metadata": {},
   "source": [
    "# Linear Regression Models"
   ]
  },
  {
   "cell_type": "markdown",
   "metadata": {},
   "source": [
    "In this section, we will be looking at a generalised linear regression models. "
   ]
  },
  {
   "cell_type": "markdown",
   "metadata": {},
   "source": [
    "Let's first examine how our main variables of interest are related to the total expenditure."
   ]
  },
  {
   "cell_type": "code",
   "execution_count": null,
   "metadata": {},
   "outputs": [],
   "source": [
    "model = smf.glm(formula='TOTEXP ~ AGE + TTLPX + EDUCYEAR + C(MARRYX) + C(SEX) + C(RACE)', family=sm.families.Gaussian(), data = health_data).fit(cov_type='HC3')\n",
    "print(model.summary())"
   ]
  },
  {
   "cell_type": "markdown",
   "metadata": {},
   "source": [
    "In the model below, we testing whether having diagnosed with a particular disease is going to impact the total expenditure."
   ]
  },
  {
   "cell_type": "code",
   "execution_count": null,
   "metadata": {},
   "outputs": [],
   "source": [
    "model = smf.glm(formula='TOTEXP ~ AGE + TTLPX + EDUCYEAR + C(MARRYX) + C(SEX) + C(RACE) + ASTHDX + CANCERDX + CHOLAGED + DIABDX + HIBPDX + CHDDX + MIDX + STRKDX', family=sm.families.Gaussian(), data = health_data).fit(cov_type='HC3')\n",
    "print(model.summary())"
   ]
  },
  {
   "cell_type": "markdown",
   "metadata": {},
   "source": [
    "How about hospital utilisation."
   ]
  },
  {
   "cell_type": "code",
   "execution_count": null,
   "metadata": {},
   "outputs": [],
   "source": [
    "model = smf.glm(formula='OBTOTV ~ AGE + TTLPX + EDUCYEAR + C(MARRYX) + C(SEX) + C(RACE)', family=sm.families.Gaussian(), data = health_data).fit(cov_type='HC3')\n",
    "print(model.summary())"
   ]
  },
  {
   "cell_type": "code",
   "execution_count": null,
   "metadata": {},
   "outputs": [],
   "source": [
    "model = smf.glm(formula='OBTOTV ~ AGE + TTLPX + EDUCYEAR + C(MARRYX) + C(SEX) + C(RACE) + ASTHDX + CANCERDX + CHOLAGED + DIABDX + HIBPDX + CHDDX + MIDX + STRKDX', family=sm.families.Gaussian(), data = health_data).fit(cov_type='HC3')\n",
    "print(model.summary())"
   ]
  },
  {
   "cell_type": "code",
   "execution_count": null,
   "metadata": {},
   "outputs": [],
   "source": []
  }
 ],
 "metadata": {
  "kernelspec": {
   "display_name": "Python 3",
   "language": "python",
   "name": "python3"
  },
  "language_info": {
   "codemirror_mode": {
    "name": "ipython",
    "version": 3
   },
   "file_extension": ".py",
   "mimetype": "text/x-python",
   "name": "python",
   "nbconvert_exporter": "python",
   "pygments_lexer": "ipython3",
   "version": "3.8.6"
  }
 },
 "nbformat": 4,
 "nbformat_minor": 4
}
